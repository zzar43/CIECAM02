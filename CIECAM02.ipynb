{
 "cells": [
  {
   "cell_type": "markdown",
   "metadata": {},
   "source": [
    "# CIECAM02 color appearance model\n",
    "This program is for calculate parameters from CIE XYZ to CIECAM02 color apperance model.\n",
    "\n",
    "Reference:\n",
    "- https://en.wikipedia.org/wiki/CIECAM02\n",
    "- https://en.wikipedia.org/wiki/LMS_color_space\n",
    "- http://blog.sina.com.cn/s/blog_4b892b790100i5la.html\n",
    "\n",
    "## Model description and background parameters\n",
    "Background parameter.\n",
    "Three surroundings in CIECAM02 model: average, dim, and dark.\n",
    "\n",
    "| Surround condition | Surround ratio | $F$ | $c$   | $N_c$ | Application                     |\n",
    "| ------------------ | -------------- | --- | ----- | ----- | ------------------------------- | \n",
    "| Average            | $S_R > 0.2$    | 1.0 | 0.69  | 1.0   | Viewing surface colors          |\n",
    "| Dim                | $0<S_R<0.2$    | 0.9 | 0.59  | 0.95  | Viewing television              |\n",
    "| Dark               | $S_R = 0$      | 0.8 | 0.525 | 0.8   | Using a projector in a dark room|\n",
    "\n",
    "- $S_R$ = $L_{sw} / L_{dw}$: ratio of the absolute luminance of the reference white (white point) measured in the surround field to the display area. The 0.2 coefficient derives from the \"gray world\" assumption (~18%–20% reflectivity). It tests whether the surround luminance is darker or brighter than medium gray.\n",
    "- $F$: factor determining degree of adaptation.\n",
    "- $c$: impact of surrounding.\n",
    "- $N_c$: chromatic induction factor.\n",
    "\n",
    "Adoped white in test illuminant: \n",
    "$X_w$, $Y_w$, $Z_w$ and $Y_w = 100$.\n",
    "\n",
    "Background in test condition:\n",
    "$Y_b$.\n",
    "\n",
    "Reference white in reference illuminant:\n",
    "$X_{wr} = Y_{wr} = Z_{wr} = 100$.\n",
    "\n",
    "Luminance of test adapting field ($cd/m^2$):\n",
    "$L_A$.\n",
    "\n",
    "Hue circle:\n",
    "\n",
    "| Index | Red   | Yellow | Green  | Blue   | Red    |\n",
    "| ----- | ----- | ------ | ------ | ------ | ------ |\n",
    "| i     | 1     | 2      | 3      | 4      | 5      |\n",
    "|hi     | 20.14 | 90.00  | 164.25 | 237.53 | 380.14 |\n",
    "|ei     | 0.8   | 0.7    | 1.0    | 1.2    | 0.8    |\n",
    "|Hi     | 0.0   | 100.0  | 200.0  | 300.0  | 400.0  |"
   ]
  },
  {
   "cell_type": "code",
   "execution_count": 1,
   "metadata": {
    "collapsed": false
   },
   "outputs": [],
   "source": [
    "function XYZ2CIECAM02(X,Y,Z,X_w,Y_w,Z_w,Y_b,L_A,surround_cond)\n",
    "#     The surrounding conditon parameter:\n",
    "    if surround_cond == \"average\"\n",
    "        F = 1; c = 0.69; N_c = 1.0;\n",
    "    elseif surround_cond == \"dim\"\n",
    "        F = 0.9; c = 0.59; N_c = 0.95;\n",
    "    elseif surround_cond == \"dark\"\n",
    "        F = 0.8; c = 0.525; N_c = 0.8;\n",
    "    elseif surround_cond == \"light_box\"\n",
    "        F = 0.8; c = 0.41; N_c = 0.8;\n",
    "    end\n",
    "    \n",
    "#     Color matrix:\n",
    "    M_cat02 = [0.7328 0.4296 -0.1624; -0.7036 1.6975 0.0061; 0.0030 0.0136 0.9834];\n",
    "    M_cat02_inv = [1.0961 -0.2789 0.1827; 0.4544 0.4735 0.0721; -0.0096 -0.0057 1.0153];\n",
    "#     M_cat02_inv = M_cat02^(-1);\n",
    "    M_hpe = [0.38971 0.68898 -0.07868; -0.22981 1.1834 0.04641; 0 0 1];\n",
    "    \n",
    "    \n",
    "#     Step 1:\n",
    "    RGB_w = M_cat02 * [X_w; Y_w; Z_w];\n",
    "    RGB = M_cat02 * [X; Y; Z];\n",
    "    \n",
    "#     Step 2:\n",
    "    D = F * (1 - (1/3.6)*exp((-1*L_A-42)/92))\n",
    "    RGB_w = M_cat02 * [X_w; Y_w; Z_w];\n",
    "    D_RGB = Y_w*D./RGB_w + 1 - D;\n",
    "    \n",
    "#     Step 3:\n",
    "    RGB_c = D_RGB .* RGB;\n",
    "    RGB_wc = M_cat02 * [X_w; Y_w; Z_w];\n",
    "    \n",
    "#     Step 4:\n",
    "    k = 1/(5*L_A + 1);\n",
    "    n = Y_b/Y_w;\n",
    "    z = 1.48 + sqrt(n);\n",
    "    N_bb = N_cb = 0.725 * (1/n)^0.2;\n",
    "    F_L = 0.2*k^4*(5*L_A) + 0.1*(1-k^4)^2*(5*L_A)^(1/3);\n",
    "    \n",
    "#     Step 5:\n",
    "    RGB_apo = M_hpe * M_cat02_inv * RGB_c;\n",
    "    RGB_w_apo = M_hpe * M_cat02_inv * RGB_wc;\n",
    "    \n",
    "#     Step 6:\n",
    "    RGB_a_apo = [step6(RGB_apo[1],F_L), step6(RGB_apo[2],F_L), step6(RGB_apo[3],F_L)];\n",
    "    RGB_aw_apo = [step6(RGB_w_apo[1],F_L), step6(RGB_w_apo[2],F_L), step6(RGB_w_apo[3],F_L)];\n",
    "    \n",
    "#     Step 7:\n",
    "    C_1 = RGB_a_apo[1] - RGB_a_apo[2];\n",
    "    C_2 = RGB_a_apo[2] - RGB_a_apo[3];\n",
    "    C_3 = RGB_a_apo[3] - RGB_a_apo[1];\n",
    "    a = C_1 - (1/11)*C_2;\n",
    "    b = 1/2*(C_2 - C_3)/4.5;\n",
    "    h = cal_h(a,b);\n",
    "    if h < 20.14\n",
    "        h_apo = h + 360;\n",
    "    else\n",
    "        h_apo = h;\n",
    "    end\n",
    "    ei, Hi, hi, hi1, ei1 = cal_hue(h_apo);\n",
    "    H = Hi + (100*(h_apo-hi)/ei) / ((h_apo-hi)/ei + (hi1-h_apo)/ei1);\n",
    "    # Verison 1: the textbook\n",
    "    et = ei + (ei1-ei)*(h_apo-hi)/(hi1-hi);\n",
    "    # Verison 2: the blog and wiki page\n",
    "#     et = 1/4*(cos(pi/1.8*h+2)+3.8)\n",
    "    A = (2*RGB_a_apo[1] + RGB_a_apo[2] + (1/20)*RGB_a_apo[3]) * N_bb;\n",
    "    A_w = (2*RGB_aw_apo[1] + RGB_aw_apo[2] + (1/20)*RGB_aw_apo[3]) * N_bb;\n",
    "    J = 100 * (A/A_w)^(c*z);\n",
    "    Q = (4/c)*sqrt(1/100*J) * (A_w+4) * F_L^(1/4);\n",
    "    t = (50000/13 * N_c*N_cb*et*sqrt(a^2+b^2)) / (RGB_a_apo[1] + RGB_a_apo[2] + 21/20*RGB_a_apo[3]);\n",
    "    C = t^0.9 * sqrt(1/100*J) * (1.64-0.29^n)^0.73;\n",
    "    M = C*F_L^(1/4);\n",
    "    s = 100 * sqrt(M/Q);\n",
    "    \n",
    "    return J, C, H, h, M, s, Q\n",
    "end\n",
    "\n",
    "function step6(R, F_L)\n",
    "    if R >= 0\n",
    "        R_a = (400*(F_L*abs(R)/100)^0.42)  /  (27.13 + (F_L*abs(R)/100)^0.42) + 0.1;\n",
    "    else\n",
    "        R_a = -1 *( (400*(F_L*abs(R)/100)^0.42)  /  (27.13 + (F_L*abs(R)/100)^0.42) + 0.1);\n",
    "    end\n",
    "    return R_a\n",
    "end;\n",
    "\n",
    "function cal_h(a,b)\n",
    "    h = atan2(b,a);\n",
    "    if h < 0\n",
    "        h = h + 2*pi;\n",
    "    end\n",
    "    h = h / pi * 180;\n",
    "    return h\n",
    "end;\n",
    "\n",
    "function cal_hue(h)\n",
    "    if 20.14 < h <= 90\n",
    "        ei = 0.8; Hi = 0; hi = 20.14; hi1 = 90; ei1 = 0.7;\n",
    "    elseif 90 < h <= 164.25\n",
    "        ei = 0.7; Hi = 100; hi = 90; hi1 = 164.25; ei1 = 1;\n",
    "    elseif 164.25 < h <= 237.53\n",
    "        ei = 1; Hi = 200; hi = 164.25; hi1 = 237.53; ei1 = 1.2;\n",
    "    elseif 237.53 < h <= 380.14\n",
    "        ei = 1.2; Hi = 300; hi = 237.53; hi1 = 380.14; ei1 = 0.8;\n",
    "    end\n",
    "    return ei, Hi, hi, hi1, ei1\n",
    "end;"
   ]
  },
  {
   "cell_type": "markdown",
   "metadata": {},
   "source": [
    "### Test data"
   ]
  },
  {
   "cell_type": "code",
   "execution_count": 2,
   "metadata": {
    "collapsed": true
   },
   "outputs": [],
   "source": [
    "X = 57.06; Y = 43.06; Z = 31.96;\n",
    "X_w = 95.05; Y_w = 100.00; Z_w = 108.88;\n",
    "L_A = 31.83;\n",
    "F = 1.0; c = 0.69; N_c = 1.0;\n",
    "Y_b = 20;"
   ]
  },
  {
   "cell_type": "code",
   "execution_count": 3,
   "metadata": {
    "collapsed": true
   },
   "outputs": [],
   "source": [
    "# X = 3.53; Y = 6.56; Z = 2.14;\n",
    "# X_w = 109.85; Y_w = 100; Z_w = 35.58;\n",
    "# L_A = 318.31;"
   ]
  },
  {
   "cell_type": "code",
   "execution_count": 4,
   "metadata": {
    "collapsed": true
   },
   "outputs": [],
   "source": [
    "# X = 19.01; Y = 20; Z = 21.78;\n",
    "# X_w = 109.85; Y_w = 100; Z_w = 35.58;\n",
    "# L_A = 31.83;"
   ]
  },
  {
   "cell_type": "code",
   "execution_count": 5,
   "metadata": {
    "collapsed": false
   },
   "outputs": [
    {
     "data": {
      "text/plain": [
       "(66.5870997970122,50.24654606964671,399.3931835332832,19.561910042859314,43.11119985462551,52.8920855497015,154.10216021199972)"
      ]
     },
     "execution_count": 5,
     "metadata": {},
     "output_type": "execute_result"
    }
   ],
   "source": [
    "J, C, H, h, M, s, Q = XYZ2CIECAM02(X,Y,Z,X_w,Y_w,Z_w,Y_b,L_A,\"average\")"
   ]
  },
  {
   "cell_type": "markdown",
   "metadata": {},
   "source": [
    "## Import real data"
   ]
  },
  {
   "cell_type": "code",
   "execution_count": 6,
   "metadata": {
    "collapsed": false
   },
   "outputs": [],
   "source": [
    "using DataFrames\n",
    "data = readtable(\"QJ_csv.csv\", header=true, separator=',');"
   ]
  },
  {
   "cell_type": "code",
   "execution_count": 7,
   "metadata": {
    "collapsed": false
   },
   "outputs": [
    {
     "data": {
      "text/html": [
       "<table class=\"data-frame\"><thead><tr><th></th><th>_name</th><th>L_</th><th>a_</th><th>b_</th><th>C_</th><th>h_</th><th>X</th><th>Y</th><th>Z</th></tr></thead><tbody><tr><th>1</th><td>QJ01</td><td>30.95</td><td>5.61</td><td>-14.6</td><td>15.64</td><td>291.0</td><td>6.824</td><td>6.632</td><td>11.703</td></tr><tr><th>2</th><td>QJB1</td><td>27.12</td><td>6.03</td><td>-15.31</td><td>16.45</td><td>291.51</td><td>5.361</td><td>5.138</td><td>9.668</td></tr><tr><th>3</th><td>QJ2</td><td>28.77</td><td>7.16</td><td>-18.78</td><td>20.09</td><td>290.87</td><td>6.08</td><td>5.749</td><td>11.855</td></tr><tr><th>4</th><td>QJB2</td><td>26.37</td><td>6.59</td><td>-17.22</td><td>18.43</td><td>290.94</td><td>5.138</td><td>4.872</td><td>9.864</td></tr><tr><th>5</th><td>QJ3</td><td>26.37</td><td>8.68</td><td>-22.66</td><td>24.26</td><td>290.96</td><td>5.312</td><td>4.874</td><td>11.762</td></tr><tr><th>6</th><td>QJB3</td><td>24.62</td><td>6.33</td><td>-13.95</td><td>15.32</td><td>294.4</td><td>4.529</td><td>4.295</td><td>7.947</td></tr></tbody></table>"
      ],
      "text/plain": [
       "6×9 DataFrames.DataFrame\n",
       "│ Row │ _name  │ L_    │ a_   │ b_     │ C_    │ h_     │ X     │ Y     │\n",
       "├─────┼────────┼───────┼──────┼────────┼───────┼────────┼───────┼───────┤\n",
       "│ 1   │ \"QJ01\" │ 30.95 │ 5.61 │ -14.6  │ 15.64 │ 291.0  │ 6.824 │ 6.632 │\n",
       "│ 2   │ \"QJB1\" │ 27.12 │ 6.03 │ -15.31 │ 16.45 │ 291.51 │ 5.361 │ 5.138 │\n",
       "│ 3   │ \"QJ2\"  │ 28.77 │ 7.16 │ -18.78 │ 20.09 │ 290.87 │ 6.08  │ 5.749 │\n",
       "│ 4   │ \"QJB2\" │ 26.37 │ 6.59 │ -17.22 │ 18.43 │ 290.94 │ 5.138 │ 4.872 │\n",
       "│ 5   │ \"QJ3\"  │ 26.37 │ 8.68 │ -22.66 │ 24.26 │ 290.96 │ 5.312 │ 4.874 │\n",
       "│ 6   │ \"QJB3\" │ 24.62 │ 6.33 │ -13.95 │ 15.32 │ 294.4  │ 4.529 │ 4.295 │\n",
       "\n",
       "│ Row │ Z      │\n",
       "├─────┼────────┤\n",
       "│ 1   │ 11.703 │\n",
       "│ 2   │ 9.668  │\n",
       "│ 3   │ 11.855 │\n",
       "│ 4   │ 9.864  │\n",
       "│ 5   │ 11.762 │\n",
       "│ 6   │ 7.947  │"
      ]
     },
     "execution_count": 7,
     "metadata": {},
     "output_type": "execute_result"
    }
   ],
   "source": [
    "head(data)"
   ]
  },
  {
   "cell_type": "markdown",
   "metadata": {},
   "source": [
    "## Different Environment\n",
    "Background parameters:"
   ]
  },
  {
   "cell_type": "code",
   "execution_count": 8,
   "metadata": {
    "collapsed": false
   },
   "outputs": [],
   "source": [
    "Y_b = 20;\n",
    "X_w,Y_w,Z_w = 95.02,100,108.81;\n",
    "L_A = 63.6619;"
   ]
  },
  {
   "cell_type": "code",
   "execution_count": 9,
   "metadata": {
    "collapsed": false,
    "scrolled": true
   },
   "outputs": [],
   "source": [
    "data1 = DataFrame(name=[], environment=[], J=[], C=[], H=[], h=[], M=[], s=[], Q=[]);\n",
    "\n",
    "for i = 1:size(data)[1]\n",
    "    J, C, H, h, M, s, Q = XYZ2CIECAM02(data[:X][i],data[:Y][i],data[:Z][i],X_w,Y_w,Z_w,Y_b,L_A,\"average\");\n",
    "    push!(data1, @data([data[:_name][i],\"Average\",J,C,H,h,M,s,Q]));\n",
    "end\n",
    "\n",
    "for i = 1:size(data)[1]\n",
    "    J, C, H, h, M, s, Q = XYZ2CIECAM02(data[:X][i],data[:Y][i],data[:Z][i],X_w,Y_w,Z_w,Y_b,L_A,\"dim\");\n",
    "    push!(data1, @data([data[:_name][i],\"Dim\",J,C,H,h,M,s,Q]));\n",
    "end\n",
    "\n",
    "for i = 1:size(data)[1]\n",
    "    J, C, H, h, M, s, Q = XYZ2CIECAM02(data[:X][i],data[:Y][i],data[:Z][i],X_w,Y_w,Z_w,Y_b,L_A,\"dark\");\n",
    "    push!(data1, @data([data[:_name][i],\"Dark\",J,C,H,h,M,s,Q]));\n",
    "end\n",
    "\n",
    "for i = 1:size(data)[1]\n",
    "    J, C, H, h, M, s, Q = XYZ2CIECAM02(data[:X][i],data[:Y][i],data[:Z][i],X_w,Y_w,Z_w,Y_b,L_A,\"light_box\");\n",
    "    push!(data1, @data([data[:_name][i],\"Light Box\",J,C,H,h,M,s,Q]));\n",
    "end"
   ]
  },
  {
   "cell_type": "code",
   "execution_count": 10,
   "metadata": {
    "collapsed": false,
    "scrolled": false
   },
   "outputs": [
    {
     "data": {
      "text/html": [
       "<table class=\"data-frame\"><thead><tr><th></th><th>name</th><th>environment</th><th>J</th><th>C</th><th>H</th><th>h</th><th>M</th><th>s</th><th>Q</th></tr></thead><tbody><tr><th>1</th><td>QJ01</td><td>Average</td><td>23.15457059550678</td><td>18.325826193737015</td><td>318.831810215608</td><td>274.3473774946405</td><td>16.658441356007753</td><td>39.886250394276495</td><td>104.70994746253159</td></tr><tr><th>2</th><td>QJB1</td><td>Average</td><td>20.16792827714322</td><td>19.143969175165427</td><td>318.8562496254963</td><td>274.39104139626204</td><td>17.40214517229803</td><td>42.19891489168987</td><td>97.72377162345116</td></tr><tr><th>3</th><td>QJ2</td><td>Average</td><td>21.386776871013687</td><td>22.827760511759532</td><td>317.79190713513816</td><td>272.48038787140524</td><td>20.75076483613587</td><td>45.409417582939234</td><td>100.63342299119621</td></tr><tr><th>4</th><td>QJB2</td><td>Average</td><td>19.570445046199325</td><td>21.223649605537513</td><td>317.990002086034</td><td>272.8374109767213</td><td>19.292604795909995</td><td>44.76725551499718</td><td>96.26533510727641</td></tr><tr><th>5</th><td>QJ3</td><td>Average</td><td>19.50390628441435</td><td>26.842204819093336</td><td>316.69241313274506</td><td>270.486922705953</td><td>24.399952838013466</td><td>50.3882534387635</td><td>96.10154654832223</td></tr><tr><th>6</th><td>QJB3</td><td>Average</td><td>18.348369254751965</td><td>17.637309321338915</td><td>321.15475533066194</td><td>278.4544601572548</td><td>16.032569549726766</td><td>41.47318704361156</td><td>93.21124564774327</td></tr></tbody></table>"
      ],
      "text/plain": [
       "6×9 DataFrames.DataFrame\n",
       "│ Row │ name   │ environment │ J       │ C       │ H       │ h       │ M       │\n",
       "├─────┼────────┼─────────────┼─────────┼─────────┼─────────┼─────────┼─────────┤\n",
       "│ 1   │ \"QJ01\" │ \"Average\"   │ 23.1546 │ 18.3258 │ 318.832 │ 274.347 │ 16.6584 │\n",
       "│ 2   │ \"QJB1\" │ \"Average\"   │ 20.1679 │ 19.144  │ 318.856 │ 274.391 │ 17.4021 │\n",
       "│ 3   │ \"QJ2\"  │ \"Average\"   │ 21.3868 │ 22.8278 │ 317.792 │ 272.48  │ 20.7508 │\n",
       "│ 4   │ \"QJB2\" │ \"Average\"   │ 19.5704 │ 21.2236 │ 317.99  │ 272.837 │ 19.2926 │\n",
       "│ 5   │ \"QJ3\"  │ \"Average\"   │ 19.5039 │ 26.8422 │ 316.692 │ 270.487 │ 24.4    │\n",
       "│ 6   │ \"QJB3\" │ \"Average\"   │ 18.3484 │ 17.6373 │ 321.155 │ 278.454 │ 16.0326 │\n",
       "\n",
       "│ Row │ s       │ Q       │\n",
       "├─────┼─────────┼─────────┤\n",
       "│ 1   │ 39.8863 │ 104.71  │\n",
       "│ 2   │ 42.1989 │ 97.7238 │\n",
       "│ 3   │ 45.4094 │ 100.633 │\n",
       "│ 4   │ 44.7673 │ 96.2653 │\n",
       "│ 5   │ 50.3883 │ 96.1015 │\n",
       "│ 6   │ 41.4732 │ 93.2112 │"
      ]
     },
     "execution_count": 10,
     "metadata": {},
     "output_type": "execute_result"
    }
   ],
   "source": [
    "head(data1)"
   ]
  },
  {
   "cell_type": "code",
   "execution_count": 11,
   "metadata": {
    "collapsed": true
   },
   "outputs": [],
   "source": [
    "writetable(\"data1.csv\", data1, separator = ',', header = true)"
   ]
  },
  {
   "cell_type": "markdown",
   "metadata": {},
   "source": [
    "## Changing Illuminance\n",
    "Background parameters:"
   ]
  },
  {
   "cell_type": "code",
   "execution_count": 12,
   "metadata": {
    "collapsed": false
   },
   "outputs": [],
   "source": [
    "Y_b = 20;\n",
    "X_w,Y_w,Z_w = 95.02,100,108.81;\n",
    "L_A1 = 63.6619;\n",
    "L_A2 = 143.38;\n",
    "L_A3 = 149.81;"
   ]
  },
  {
   "cell_type": "code",
   "execution_count": 13,
   "metadata": {
    "collapsed": true
   },
   "outputs": [],
   "source": [
    "data2 = DataFrame(name=[], L_A=[], J=[], C=[], H=[], h=[], M=[], s=[], Q=[]);\n",
    "\n",
    "for i = 1:size(data)[1]\n",
    "    J, C, H, h, M, s, Q = XYZ2CIECAM02(data[:X][i],data[:Y][i],data[:Z][i],X_w,Y_w,Z_w,Y_b,L_A,\"average\");\n",
    "    push!(data2, @data([data[:_name][i],L_A1,J,C,H,h,M,s,Q]));\n",
    "end\n",
    "\n",
    "for i = 1:size(data)[1]\n",
    "    J, C, H, h, M, s, Q = XYZ2CIECAM02(data[:X][i],data[:Y][i],data[:Z][i],X_w,Y_w,Z_w,Y_b,L_A,\"average\");\n",
    "    push!(data2, @data([data[:_name][i],L_A2,J,C,H,h,M,s,Q]));\n",
    "end\n",
    "\n",
    "for i = 1:size(data)[1]\n",
    "    J, C, H, h, M, s, Q = XYZ2CIECAM02(data[:X][i],data[:Y][i],data[:Z][i],X_w,Y_w,Z_w,Y_b,L_A,\"average\");\n",
    "    push!(data2, @data([data[:_name][i],L_A3,J,C,H,h,M,s,Q]));\n",
    "end"
   ]
  },
  {
   "cell_type": "code",
   "execution_count": 14,
   "metadata": {
    "collapsed": false
   },
   "outputs": [
    {
     "data": {
      "text/html": [
       "<table class=\"data-frame\"><thead><tr><th></th><th>name</th><th>L_A</th><th>J</th><th>C</th><th>H</th><th>h</th><th>M</th><th>s</th><th>Q</th></tr></thead><tbody><tr><th>1</th><td>QJ01</td><td>63.6619</td><td>23.15457059550678</td><td>18.325826193737015</td><td>318.831810215608</td><td>274.3473774946405</td><td>16.658441356007753</td><td>39.886250394276495</td><td>104.70994746253159</td></tr><tr><th>2</th><td>QJB1</td><td>63.6619</td><td>20.16792827714322</td><td>19.143969175165427</td><td>318.8562496254963</td><td>274.39104139626204</td><td>17.40214517229803</td><td>42.19891489168987</td><td>97.72377162345116</td></tr><tr><th>3</th><td>QJ2</td><td>63.6619</td><td>21.386776871013687</td><td>22.827760511759532</td><td>317.79190713513816</td><td>272.48038787140524</td><td>20.75076483613587</td><td>45.409417582939234</td><td>100.63342299119621</td></tr><tr><th>4</th><td>QJB2</td><td>63.6619</td><td>19.570445046199325</td><td>21.223649605537513</td><td>317.990002086034</td><td>272.8374109767213</td><td>19.292604795909995</td><td>44.76725551499718</td><td>96.26533510727641</td></tr><tr><th>5</th><td>QJ3</td><td>63.6619</td><td>19.50390628441435</td><td>26.842204819093336</td><td>316.69241313274506</td><td>270.486922705953</td><td>24.399952838013466</td><td>50.3882534387635</td><td>96.10154654832223</td></tr><tr><th>6</th><td>QJB3</td><td>63.6619</td><td>18.348369254751965</td><td>17.637309321338915</td><td>321.15475533066194</td><td>278.4544601572548</td><td>16.032569549726766</td><td>41.47318704361156</td><td>93.21124564774327</td></tr></tbody></table>"
      ],
      "text/plain": [
       "6×9 DataFrames.DataFrame\n",
       "│ Row │ name   │ L_A     │ J       │ C       │ H       │ h       │ M       │\n",
       "├─────┼────────┼─────────┼─────────┼─────────┼─────────┼─────────┼─────────┤\n",
       "│ 1   │ \"QJ01\" │ 63.6619 │ 23.1546 │ 18.3258 │ 318.832 │ 274.347 │ 16.6584 │\n",
       "│ 2   │ \"QJB1\" │ 63.6619 │ 20.1679 │ 19.144  │ 318.856 │ 274.391 │ 17.4021 │\n",
       "│ 3   │ \"QJ2\"  │ 63.6619 │ 21.3868 │ 22.8278 │ 317.792 │ 272.48  │ 20.7508 │\n",
       "│ 4   │ \"QJB2\" │ 63.6619 │ 19.5704 │ 21.2236 │ 317.99  │ 272.837 │ 19.2926 │\n",
       "│ 5   │ \"QJ3\"  │ 63.6619 │ 19.5039 │ 26.8422 │ 316.692 │ 270.487 │ 24.4    │\n",
       "│ 6   │ \"QJB3\" │ 63.6619 │ 18.3484 │ 17.6373 │ 321.155 │ 278.454 │ 16.0326 │\n",
       "\n",
       "│ Row │ s       │ Q       │\n",
       "├─────┼─────────┼─────────┤\n",
       "│ 1   │ 39.8863 │ 104.71  │\n",
       "│ 2   │ 42.1989 │ 97.7238 │\n",
       "│ 3   │ 45.4094 │ 100.633 │\n",
       "│ 4   │ 44.7673 │ 96.2653 │\n",
       "│ 5   │ 50.3883 │ 96.1015 │\n",
       "│ 6   │ 41.4732 │ 93.2112 │"
      ]
     },
     "execution_count": 14,
     "metadata": {},
     "output_type": "execute_result"
    }
   ],
   "source": [
    "head(data2)"
   ]
  },
  {
   "cell_type": "code",
   "execution_count": 15,
   "metadata": {
    "collapsed": true
   },
   "outputs": [],
   "source": [
    "writetable(\"data2.csv\", data2, separator = ',', header = true)"
   ]
  },
  {
   "cell_type": "markdown",
   "metadata": {},
   "source": [
    "## Changing Light Source\n",
    "Background parameters:"
   ]
  },
  {
   "cell_type": "code",
   "execution_count": 16,
   "metadata": {
    "collapsed": true
   },
   "outputs": [],
   "source": [
    "Y_b = 20;\n",
    "L_A1 = 63.6619;\n",
    "X_w1,Y_w1,Z_w1 = 95.04,100,108.88;\n",
    "X_w2,Y_w2,Z_w2 = 109.85,100,35.58;\n",
    "X_w3,Y_w3,Z_w3 = 96.42,100,82.51;"
   ]
  },
  {
   "cell_type": "code",
   "execution_count": 17,
   "metadata": {
    "collapsed": false
   },
   "outputs": [],
   "source": [
    "data3 = DataFrame(name=[], Light_Source=[], J=[], C=[], H=[], h=[], M=[], s=[], Q=[]);\n",
    "\n",
    "for i = 1:size(data)[1]\n",
    "    J, C, H, h, M, s, Q = XYZ2CIECAM02(data[:X][i],data[:Y][i],data[:Z][i],X_w1,Y_w1,Z_w1,Y_b,L_A,\"average\");\n",
    "    push!(data3, @data([data[:_name][i],\"D65\",J,C,H,h,M,s,Q]));\n",
    "end\n",
    "\n",
    "for i = 1:size(data)[1]\n",
    "    J, C, H, h, M, s, Q = XYZ2CIECAM02(data[:X][i],data[:Y][i],data[:Z][i],X_w2,Y_w2,Z_w2,Y_b,L_A,\"average\");\n",
    "    push!(data3, @data([data[:_name][i],\"A\",J,C,H,h,M,s,Q]));\n",
    "end\n",
    "\n",
    "for i = 1:size(data)[1]\n",
    "    J, C, H, h, M, s, Q = XYZ2CIECAM02(data[:X][i],data[:Y][i],data[:Z][i],X_w3,Y_w3,Z_w3,Y_b,L_A,\"average\");\n",
    "    push!(data3, @data([data[:_name][i],\"D50\",J,C,H,h,M,s,Q]));\n",
    "end"
   ]
  },
  {
   "cell_type": "code",
   "execution_count": 18,
   "metadata": {
    "collapsed": false
   },
   "outputs": [
    {
     "data": {
      "text/html": [
       "<table class=\"data-frame\"><thead><tr><th></th><th>name</th><th>Light_Source</th><th>J</th><th>C</th><th>H</th><th>h</th><th>M</th><th>s</th><th>Q</th></tr></thead><tbody><tr><th>1</th><td>QJ01</td><td>D65</td><td>23.15376965773379</td><td>18.30752564395431</td><td>318.8147988582711</td><td>274.3169789316577</td><td>16.641805891275357</td><td>39.86651561344643</td><td>104.70897139049355</td></tr><tr><th>2</th><td>QJB1</td><td>D65</td><td>20.167187017729407</td><td>19.12707387114935</td><td>318.84200434008693</td><td>274.365591691493</td><td>17.386787096314535</td><td>42.18050909377864</td><td>97.72275496123223</td></tr><tr><th>3</th><td>QJ2</td><td>D65</td><td>21.385920870832965</td><td>22.810841964334365</td><td>317.7796783206952</td><td>272.4583268053215</td><td>20.735385631556962</td><td>45.39286035037101</td><td>100.63221149969108</td></tr><tr><th>4</th><td>QJB2</td><td>D65</td><td>19.569675601311516</td><td>21.207387715466098</td><td>317.9773981953913</td><td>272.81471453283393</td><td>19.277822502373613</td><td>44.75036299133176</td><td>96.26421028354362</td></tr><tr><th>5</th><td>QJ3</td><td>D65</td><td>19.503000922996584</td><td>26.826596956809617</td><td>316.68316115858244</td><td>270.47006234869633</td><td>24.385765065205995</td><td>50.373985503453156</td><td>96.10008233266775</td></tr><tr><th>6</th><td>QJB3</td><td>D65</td><td>18.34770134207998</td><td>17.620695520694216</td><td>321.142471070197</td><td>278.4329679110853</td><td>16.017467364383837</td><td>41.45386118808924</td><td>93.21029236577449</td></tr></tbody></table>"
      ],
      "text/plain": [
       "6×9 DataFrames.DataFrame\n",
       "│ Row │ name   │ Light_Source │ J       │ C       │ H       │ h       │\n",
       "├─────┼────────┼──────────────┼─────────┼─────────┼─────────┼─────────┤\n",
       "│ 1   │ \"QJ01\" │ \"D65\"        │ 23.1538 │ 18.3075 │ 318.815 │ 274.317 │\n",
       "│ 2   │ \"QJB1\" │ \"D65\"        │ 20.1672 │ 19.1271 │ 318.842 │ 274.366 │\n",
       "│ 3   │ \"QJ2\"  │ \"D65\"        │ 21.3859 │ 22.8108 │ 317.78  │ 272.458 │\n",
       "│ 4   │ \"QJB2\" │ \"D65\"        │ 19.5697 │ 21.2074 │ 317.977 │ 272.815 │\n",
       "│ 5   │ \"QJ3\"  │ \"D65\"        │ 19.503  │ 26.8266 │ 316.683 │ 270.47  │\n",
       "│ 6   │ \"QJB3\" │ \"D65\"        │ 18.3477 │ 17.6207 │ 321.142 │ 278.433 │\n",
       "\n",
       "│ Row │ M       │ s       │ Q       │\n",
       "├─────┼─────────┼─────────┼─────────┤\n",
       "│ 1   │ 16.6418 │ 39.8665 │ 104.709 │\n",
       "│ 2   │ 17.3868 │ 42.1805 │ 97.7228 │\n",
       "│ 3   │ 20.7354 │ 45.3929 │ 100.632 │\n",
       "│ 4   │ 19.2778 │ 44.7504 │ 96.2642 │\n",
       "│ 5   │ 24.3858 │ 50.374  │ 96.1001 │\n",
       "│ 6   │ 16.0175 │ 41.4539 │ 93.2103 │"
      ]
     },
     "execution_count": 18,
     "metadata": {},
     "output_type": "execute_result"
    }
   ],
   "source": [
    "head(data3)"
   ]
  },
  {
   "cell_type": "code",
   "execution_count": 19,
   "metadata": {
    "collapsed": true
   },
   "outputs": [],
   "source": [
    "writetable(\"data3.csv\", data3, separator = ',', header = true)"
   ]
  },
  {
   "cell_type": "code",
   "execution_count": null,
   "metadata": {
    "collapsed": true
   },
   "outputs": [],
   "source": []
  }
 ],
 "metadata": {
  "anaconda-cloud": {},
  "kernelspec": {
   "display_name": "Julia 0.5.0",
   "language": "julia",
   "name": "julia-0.5"
  },
  "language_info": {
   "file_extension": ".jl",
   "mimetype": "application/julia",
   "name": "julia",
   "version": "0.5.0"
  }
 },
 "nbformat": 4,
 "nbformat_minor": 2
}
