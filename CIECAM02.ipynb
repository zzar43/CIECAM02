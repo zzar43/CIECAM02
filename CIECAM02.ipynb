{
 "cells": [
  {
   "cell_type": "markdown",
   "metadata": {},
   "source": [
    "# CIECAM02 color appearance model\n",
    "This program is for calculate parameters from CIE XYZ to CIECAM02 color apperance model.\n",
    "\n",
    "Reference:\n",
    "- https://en.wikipedia.org/wiki/CIECAM02\n",
    "- https://en.wikipedia.org/wiki/LMS_color_space\n",
    "- http://blog.sina.com.cn/s/blog_4b892b790100i5la.html\n",
    "\n",
    "## Model description and background parameters\n",
    "Background parameter.\n",
    "Three surroundings in CIECAM02 model: average, dim, and dark.\n",
    "\n",
    "| Surround condition | Surround ratio | $F$ | $c$   | $N_c$ | Application                     |\n",
    "| ------------------ | -------------- | --- | ----- | ----- | ------------------------------- | \n",
    "| Average            | $S_R > 0.2$    | 1.0 | 0.69  | 1.0   | Viewing surface colors          |\n",
    "| Dim                | $0<S_R<0.2$    | 0.9 | 0.59  | 0.95  | Viewing television              |\n",
    "| Dark               | $S_R = 0$      | 0.8 | 0.525 | 0.8   | Using a projector in a dark room|\n",
    "\n",
    "- $S_R$ = $L_{sw} / L_{dw}$: ratio of the absolute luminance of the reference white (white point) measured in the surround field to the display area. The 0.2 coefficient derives from the \"gray world\" assumption (~18%–20% reflectivity). It tests whether the surround luminance is darker or brighter than medium gray.\n",
    "- $F$: factor determining degree of adaptation.\n",
    "- $c$: impact of surrounding.\n",
    "- $N_c$: chromatic induction factor.\n",
    "\n",
    "Adoped white in test illuminant: \n",
    "$X_w$, $Y_w$, $Z_w$ and $Y_w = 100$.\n",
    "\n",
    "Background in test condition:\n",
    "$Y_b$.\n",
    "\n",
    "Reference white in reference illuminant:\n",
    "$X_{wr} = Y_{wr} = Z_{wr} = 100$.\n",
    "\n",
    "Luminance of test adapting field ($cd/m^2$):\n",
    "$L_A$.\n",
    "\n",
    "Hue circle:\n",
    "\n",
    "| Index | Red   | Yellow | Green  | Blue   | Red    |\n",
    "| ----- | ----- | ------ | ------ | ------ | ------ |\n",
    "| i     | 1     | 2      | 3      | 4      | 5      |\n",
    "|hi     | 20.14 | 90.00  | 164.25 | 237.53 | 380.14 |\n",
    "|ei     | 0.8   | 0.7    | 1.0    | 1.2    | 0.8    |\n",
    "|Hi     | 0.0   | 100.0  | 200.0  | 300.0  | 400.0  |"
   ]
  },
  {
   "cell_type": "code",
   "execution_count": 38,
   "metadata": {
    "collapsed": false
   },
   "outputs": [
    {
     "name": "stderr",
     "output_type": "stream",
     "text": [
      "WARNING: Method definition XYZ2CIECAM02(Any, Any, Any, Any, Any, Any, Any, Any, Any) in module Main at In[35]:3 overwritten at In[38]:3.\n",
      "WARNING: Method definition step6(Any, Any) in module Main at In[35]:71 overwritten at In[38]:76.\n",
      "WARNING: Method definition cal_h(Any, Any) in module Main at In[35]:80 overwritten at In[38]:85.\n",
      "WARNING: Method definition cal_hue(Any) in module Main at In[35]:89 overwritten at In[38]:94.\n"
     ]
    }
   ],
   "source": [
    "function XYZ2CIECAM02(X,Y,Z,X_w,Y_w,Z_w,Y_b,L_A,surround_cond)\n",
    "#     The surrounding conditon parameter:\n",
    "    if surround_cond == \"average\"\n",
    "        F = 1; c = 0.69; N_c = 1.0;\n",
    "    elseif surround_cond == \"dim\"\n",
    "        F = 0.9; c = 0.59; N_c = 0.95;\n",
    "    elseif surround_cond == \"dark\"\n",
    "        F = 0.8; c = 0.525; N_c = 0.8;\n",
    "    end\n",
    "    \n",
    "#     Color matrix:\n",
    "    M_cat02 = [0.7328 0.4296 -0.1624; -0.7036 1.6975 0.0061; 0.0030 0.0136 0.9834];\n",
    "#     M_cat02_inv = [1.0961 -0.2789 0.1827; 0.4544 0.4735 0.0721; -0.0096 -0.0057 1.0153];\n",
    "    M_cat02_inv = M_cat02^(-1);\n",
    "    M_hpe = [0.38971 0.68898 -0.07868; -0.22981 1.1834 0.04641; 0 0 1];\n",
    "    \n",
    "    \n",
    "#     Step 1:\n",
    "    RGB_w = M_cat02 * [X_w; Y_w; Z_w];\n",
    "    RGB = M_cat02 * [X; Y; Z];\n",
    "    \n",
    "#     Step 2:\n",
    "    RGB_w = M_cat02 * [X_w; Y_w; Z_w];\n",
    "    D_RGB = Y_w*D./RGB_w + 1 - D;\n",
    "    \n",
    "#     Step 3:\n",
    "    RGB_c = D_RGB .* RGB;\n",
    "    RGB_w = M_cat02 * [X_w; Y_w; Z_w];\n",
    "    \n",
    "#     Step 4:\n",
    "    k = 1/(5*L_A + 1);\n",
    "    n = Y_b/Y_w;\n",
    "    z = 1.48 + sqrt(n);\n",
    "    N_bb = N_cb = 0.725 * (1/n)^0.2;\n",
    "    F_L = 0.2*k^4*(5*L_A) + 0.1*(1-k^4)^2*(5*L_A)^(1/3);\n",
    "    \n",
    "#     Step 5:\n",
    "    RGB_apo = M_hpe * M_cat02_inv * RGB_c;\n",
    "    RGB_w_apo = M_hpe * M_cat02_inv * RGB_wc;\n",
    "    \n",
    "#     Step 6:\n",
    "    RGB_a_apo = [step6(RGB_apo[1],F_L), step6(RGB_apo[2],F_L), step6(RGB_apo[3],F_L)];\n",
    "    RGB_aw_apo = [step6(RGB_w_apo[1],F_L), step6(RGB_w_apo[2],F_L), step6(RGB_w_apo[3],F_L)];\n",
    "    \n",
    "#     Step 7:\n",
    "    C_1 = RGB_a_apo[1] - RGB_a_apo[2];\n",
    "    C_2 = RGB_a_apo[2] - RGB_a_apo[3];\n",
    "    C_3 = RGB_a_apo[3] - RGB_a_apo[1];\n",
    "    a = C_1 - (1/11)*C_2;\n",
    "    b = 1/2*(C_2 - C_3)/4.5;\n",
    "    h = cal_h(a,b);\n",
    "    if h < 20.14\n",
    "        h_apo = h + 360;\n",
    "    else\n",
    "        h_apo = h;\n",
    "    end\n",
    "    ei, Hi, hi, hi1, ei1 = cal_hue(h_apo);\n",
    "    H = Hi + (100*(h_apo-hi)/ei) / ((h_apo-hi)/ei + (hi1-h_apo)/ei1);\n",
    "    # Verison 1: the textbook\n",
    "    et = ei + (ei1-ei)*(h_apo-hi)/(hi1-hi);\n",
    "    # Verison 2: the blog and wiki page\n",
    "#     et = 1/4*(cos(pi/1.8*h+2)+3.8)\n",
    "    A = (2*RGB_a_apo[1] + RGB_a_apo[2] + (1/20)*RGB_a_apo[3]) * N_bb;\n",
    "    A_w = (2*RGB_aw_apo[1] + RGB_aw_apo[2] + (1/20)*RGB_aw_apo[3]) * N_bb;\n",
    "    J = 100 * (A/A_w)^(c*z);\n",
    "    Q = (4/c)*sqrt(1/100*J) * (A_w+4) * F_L^(1/4);\n",
    "    t = (50000/13 * N_c*N_cb*et*sqrt(a^2+b^2)) / (RGB_a_apo[1] + RGB_a_apo[2] + 21/20*RGB_a_apo[3]);\n",
    "    C = t^0.9 * sqrt(1/100*J) * (1.64-0.29^n)^0.73;\n",
    "    M = C*F_L^(1/4);\n",
    "    s = 100 * sqrt(M/Q);\n",
    "    \n",
    "    return J, C, H, h, M, s, Q\n",
    "end\n",
    "\n",
    "function step6(R, F_L)\n",
    "    if R >= 0\n",
    "        R_a = (400*(F_L*abs(R)/100)^0.42)  /  (27.13 + (F_L*abs(R)/100)^0.42) + 0.1;\n",
    "    else\n",
    "        R_a = -1 *( (400*(F_L*abs(R)/100)^0.42)  /  (27.13 + (F_L*abs(R)/100)^0.42) + 0.1);\n",
    "    end\n",
    "    return R_a\n",
    "end;\n",
    "\n",
    "function cal_h(a,b)\n",
    "    h = atan2(b,a);\n",
    "    if h < 0\n",
    "        h = h + 2*pi;\n",
    "    end\n",
    "    h = h / pi * 180;\n",
    "    return h\n",
    "end;\n",
    "\n",
    "function cal_hue(h)\n",
    "    if 20.14 < h <= 90\n",
    "        ei = 0.8; Hi = 0; hi = 20.14; hi1 = 90; ei1 = 0.7;\n",
    "    elseif 90 < h <= 164.25\n",
    "        ei = 0.7; Hi = 100; hi = 90; hi1 = 164.25; ei1 = 1;\n",
    "    elseif 164.25 < h <= 237.53\n",
    "        ei = 1; Hi = 200; hi = 164.25; hi1 = 237.53; ei1 = 1.2;\n",
    "    elseif 237.53 < h <= 380.14\n",
    "        ei = 1.2; Hi = 300; hi = 237.53; hi1 = 380.14; ei1 = 0.8;\n",
    "    end\n",
    "    return ei, Hi, hi, hi1, ei1\n",
    "end;"
   ]
  },
  {
   "cell_type": "markdown",
   "metadata": {},
   "source": [
    "### Test data"
   ]
  },
  {
   "cell_type": "code",
   "execution_count": 39,
   "metadata": {
    "collapsed": true
   },
   "outputs": [],
   "source": [
    "X = 57.06; Y = 43.06; Z = 31.96;\n",
    "X_w = 95.05; Y_w = 100.00; Z_w = 108.88;\n",
    "L_A = 31.83;\n",
    "F = 1.0; c = 0.69; N_c = 1.0;\n",
    "Y_b = 20;"
   ]
  },
  {
   "cell_type": "code",
   "execution_count": 40,
   "metadata": {
    "collapsed": true
   },
   "outputs": [],
   "source": [
    "# X = 3.53; Y = 6.56; Z = 2.14;\n",
    "# X_w = 109.85; Y_w = 100; Z_w = 35.58;\n",
    "# L_A = 318.31;"
   ]
  },
  {
   "cell_type": "code",
   "execution_count": 41,
   "metadata": {
    "collapsed": true
   },
   "outputs": [],
   "source": [
    "X = 19.01; Y = 20; Z = 21.78;\n",
    "X_w = 109.85; Y_w = 100; Z_w = 35.58;\n",
    "L_A = 31.83;"
   ]
  },
  {
   "cell_type": "code",
   "execution_count": 42,
   "metadata": {
    "collapsed": false
   },
   "outputs": [
    {
     "data": {
      "text/plain": [
       "(42.987980513849735,50.95992316718763,305.46239113669674,248.90422175943695,43.72327262438705,59.26627256384901,124.47938466616225)"
      ]
     },
     "execution_count": 42,
     "metadata": {},
     "output_type": "execute_result"
    }
   ],
   "source": [
    "J, C, H, h, M, s, Q = XYZ2CIECAM02(X,Y,Z,X_w,Y_w,Z_w,Y_b,L_A,\"average\")"
   ]
  },
  {
   "cell_type": "markdown",
   "metadata": {},
   "source": [
    "### Step 1: tested!"
   ]
  },
  {
   "cell_type": "code",
   "execution_count": 6,
   "metadata": {
    "collapsed": false
   },
   "outputs": [
    {
     "data": {
      "text/plain": [
       "3×3 Array{Float64,2}:\n",
       "  0.7328  0.4296  -0.1624\n",
       " -0.7036  1.6975   0.0061\n",
       "  0.003   0.0136   0.9834"
      ]
     },
     "metadata": {},
     "output_type": "display_data"
    }
   ],
   "source": [
    "M_cat02 = [0.7328 0.4296 -0.1624; -0.7036 1.6975 0.0061; 0.0030 0.0136 0.9834];\n",
    "display(M_cat02)"
   ]
  },
  {
   "cell_type": "code",
   "execution_count": 7,
   "metadata": {
    "collapsed": false
   },
   "outputs": [
    {
     "data": {
      "text/plain": [
       "3-element Array{Float64,1}:\n",
       " 117.68  \n",
       "  92.6766\n",
       "  36.6789"
      ]
     },
     "execution_count": 7,
     "metadata": {},
     "output_type": "execute_result"
    }
   ],
   "source": [
    "RGB_w = M_cat02 * [X_w; Y_w; Z_w]"
   ]
  },
  {
   "cell_type": "code",
   "execution_count": 8,
   "metadata": {
    "collapsed": false
   },
   "outputs": [
    {
     "data": {
      "text/plain": [
       "3-element Array{Float64,1}:\n",
       " 18.9855\n",
       " 20.7074\n",
       " 21.7475"
      ]
     },
     "execution_count": 8,
     "metadata": {},
     "output_type": "execute_result"
    }
   ],
   "source": [
    "RGB = M_cat02 * [X; Y; Z]"
   ]
  },
  {
   "cell_type": "markdown",
   "metadata": {},
   "source": [
    "### Step 2: tested!"
   ]
  },
  {
   "cell_type": "code",
   "execution_count": 9,
   "metadata": {
    "collapsed": false
   },
   "outputs": [
    {
     "data": {
      "text/plain": [
       "0.8754980431415154"
      ]
     },
     "execution_count": 9,
     "metadata": {},
     "output_type": "execute_result"
    }
   ],
   "source": [
    "D = F * (1 - (1/3.6)*exp((-1*L_A-42)/92))"
   ]
  },
  {
   "cell_type": "code",
   "execution_count": 10,
   "metadata": {
    "collapsed": false
   },
   "outputs": [
    {
     "data": {
      "text/plain": [
       "3-element Array{Float64,1}:\n",
       " 0.868468\n",
       " 1.06918 \n",
       " 2.51143 "
      ]
     },
     "execution_count": 10,
     "metadata": {},
     "output_type": "execute_result"
    }
   ],
   "source": [
    "D_RGB = Y_w*D./RGB_w + 1 - D"
   ]
  },
  {
   "cell_type": "markdown",
   "metadata": {},
   "source": [
    "### Step 3: tested!"
   ]
  },
  {
   "cell_type": "code",
   "execution_count": 11,
   "metadata": {
    "collapsed": false
   },
   "outputs": [
    {
     "data": {
      "text/plain": [
       "3-element Array{Float64,1}:\n",
       " 16.4883\n",
       " 22.14  \n",
       " 54.6172"
      ]
     },
     "execution_count": 11,
     "metadata": {},
     "output_type": "execute_result"
    }
   ],
   "source": [
    "RGB_c = D_RGB .* RGB"
   ]
  },
  {
   "cell_type": "code",
   "execution_count": 12,
   "metadata": {
    "collapsed": false
   },
   "outputs": [
    {
     "data": {
      "text/plain": [
       "3-element Array{Float64,1}:\n",
       " 102.201 \n",
       "  99.0882\n",
       "  92.1164"
      ]
     },
     "execution_count": 12,
     "metadata": {},
     "output_type": "execute_result"
    }
   ],
   "source": [
    "RGB_wc = D_RGB .* RGB_w"
   ]
  },
  {
   "cell_type": "markdown",
   "metadata": {},
   "source": [
    "### Step 4: tested!"
   ]
  },
  {
   "cell_type": "code",
   "execution_count": 13,
   "metadata": {
    "collapsed": false
   },
   "outputs": [
    {
     "data": {
      "text/plain": [
       "0.5419205063751793"
      ]
     },
     "execution_count": 13,
     "metadata": {},
     "output_type": "execute_result"
    }
   ],
   "source": [
    "k = 1/(5*L_A + 1)\n",
    "\n",
    "n = Y_b/Y_w\n",
    "\n",
    "z = 1.48 + sqrt(n)\n",
    "\n",
    "N_bb = N_cb = 0.725 * (1/n)^0.2\n",
    "\n",
    "F_L = 0.2*k^4*(5*L_A) + 0.1*(1-k^4)^2*(5*L_A)^(1/3)"
   ]
  },
  {
   "cell_type": "markdown",
   "metadata": {},
   "source": [
    "### Step 5: tested!"
   ]
  },
  {
   "cell_type": "code",
   "execution_count": 14,
   "metadata": {
    "collapsed": false
   },
   "outputs": [
    {
     "data": {
      "text/plain": [
       "3×3 Array{Float64,2}:\n",
       "  1.0961  -0.2789  0.1827\n",
       "  0.4544   0.4735  0.0721\n",
       " -0.0096  -0.0057  1.0153"
      ]
     },
     "execution_count": 14,
     "metadata": {},
     "output_type": "execute_result"
    }
   ],
   "source": [
    "M_cat02_inv = [1.0961 -0.2789 0.1827; 0.4544 0.4735 0.0721; -0.0096 -0.0057 1.0153]"
   ]
  },
  {
   "cell_type": "code",
   "execution_count": 15,
   "metadata": {
    "collapsed": false
   },
   "outputs": [
    {
     "data": {
      "text/plain": [
       "3×3 Array{Float64,2}:\n",
       "  0.38971  0.68898  -0.07868\n",
       " -0.22981  1.1834    0.04641\n",
       "  0.0      0.0       1.0    "
      ]
     },
     "execution_count": 15,
     "metadata": {},
     "output_type": "execute_result"
    }
   ],
   "source": [
    "M_hpe = [0.38971 0.68898 -0.07868; -0.22981 1.1834 0.04641; 0 0 1]"
   ]
  },
  {
   "cell_type": "code",
   "execution_count": 16,
   "metadata": {
    "collapsed": false
   },
   "outputs": [
    {
     "data": {
      "text/plain": [
       "3-element Array{Float64,1}:\n",
       " 101.106 \n",
       "  99.3483\n",
       "  91.9798"
      ]
     },
     "execution_count": 16,
     "metadata": {},
     "output_type": "execute_result"
    }
   ],
   "source": [
    "RGB_apo = M_hpe * M_cat02_inv * RGB_c\n",
    "\n",
    "RGB_w_apo = M_hpe * M_cat02_inv * RGB_wc"
   ]
  },
  {
   "cell_type": "markdown",
   "metadata": {},
   "source": [
    "### Step 6: 1 Problem!!!\n",
    "There is one problem in step6!!!!!!"
   ]
  },
  {
   "cell_type": "code",
   "execution_count": 17,
   "metadata": {
    "collapsed": false
   },
   "outputs": [
    {
     "name": "stderr",
     "output_type": "stream",
     "text": [
      "WARNING: Method definition step6(Any, Any) in module Main at In[1]:70 overwritten at In[17]:2.\n"
     ]
    }
   ],
   "source": [
    "function step6(R, F_L)\n",
    "    if R >= 0\n",
    "        R_a = (400*(F_L*abs(R)/100)^0.42)  /  (27.13 + (F_L*abs(R)/100)^0.42) + 0.1;\n",
    "    else\n",
    "        R_a = -1 *( (400*(F_L*abs(R)/100)^0.42)  /  (27.13 + (F_L*abs(R)/100)^0.42) + 0.1);\n",
    "    end\n",
    "    return R_a\n",
    "end;"
   ]
  },
  {
   "cell_type": "code",
   "execution_count": 18,
   "metadata": {
    "collapsed": false
   },
   "outputs": [
    {
     "data": {
      "text/plain": [
       "3-element Array{Float64,1}:\n",
       " 11.233 \n",
       " 11.1535\n",
       " 10.8109"
      ]
     },
     "execution_count": 18,
     "metadata": {},
     "output_type": "execute_result"
    }
   ],
   "source": [
    "RGB_a_apo = [step6(RGB_apo[1],F_L), step6(RGB_apo[2],F_L), step6(RGB_apo[3],F_L)]\n",
    "\n",
    "RGB_aw_apo = [step6(RGB_w_apo[1],F_L), step6(RGB_w_apo[2],F_L), step6(RGB_w_apo[3],F_L)]"
   ]
  },
  {
   "cell_type": "markdown",
   "metadata": {},
   "source": [
    "### Step 7:\n",
    "This step mainly based on the wiki page."
   ]
  },
  {
   "cell_type": "code",
   "execution_count": 19,
   "metadata": {
    "collapsed": false
   },
   "outputs": [
    {
     "data": {
      "text/plain": [
       "-0.626338080038736"
      ]
     },
     "execution_count": 19,
     "metadata": {},
     "output_type": "execute_result"
    }
   ],
   "source": [
    "C_1 = RGB_a_apo[1] - RGB_a_apo[2]\n",
    "C_2 = RGB_a_apo[2] - RGB_a_apo[3]\n",
    "C_3 = RGB_a_apo[3] - RGB_a_apo[1]\n",
    "\n",
    "a = C_1 - (1/11)*C_2\n",
    "\n",
    "b = 1/2*(C_2 - C_3)/4.5"
   ]
  },
  {
   "cell_type": "code",
   "execution_count": 20,
   "metadata": {
    "collapsed": false
   },
   "outputs": [
    {
     "name": "stderr",
     "output_type": "stream",
     "text": [
      "WARNING: Method definition cal_h(Any, Any) in module Main at In[1]:79 overwritten at In[20]:2.\n"
     ]
    }
   ],
   "source": [
    "function cal_h(a,b)\n",
    "    h = atan2(b,a);\n",
    "    if h < 0\n",
    "        h = h + 2*pi;\n",
    "    end\n",
    "    h = h / pi * 180;\n",
    "    return h\n",
    "end;"
   ]
  },
  {
   "cell_type": "markdown",
   "metadata": {},
   "source": [
    "Calculate hue circle:\n",
    "\n",
    "| Index | Red   | Yellow | Green  | Blue   | Red    |\n",
    "| ----- | ----- | ------ | ------ | ------ | ------ |\n",
    "| i     | 1     | 2      | 3      | 4      | 5      |\n",
    "|hi     | 20.14 | 90.00  | 164.25 | 237.53 | 380.14 |\n",
    "|ei     | 0.8   | 0.7    | 1.0    | 1.2    | 0.8    |\n",
    "|Hi     | 0.0   | 100.0  | 200.0  | 300.0  | 400.0  |"
   ]
  },
  {
   "cell_type": "code",
   "execution_count": 21,
   "metadata": {
    "collapsed": false
   },
   "outputs": [
    {
     "data": {
      "text/plain": [
       "248.88436720923212"
      ]
     },
     "execution_count": 21,
     "metadata": {},
     "output_type": "execute_result"
    }
   ],
   "source": [
    "h = cal_h(a,b)\n",
    "\n",
    "if h < 20.14\n",
    "    h_apo = h + 360;\n",
    "else\n",
    "    h_apo = h;\n",
    "end"
   ]
  },
  {
   "cell_type": "code",
   "execution_count": 22,
   "metadata": {
    "collapsed": false
   },
   "outputs": [
    {
     "name": "stderr",
     "output_type": "stream",
     "text": [
      "WARNING: Method definition cal_hue(Any) in module Main at In[1]:88 overwritten at In[22]:2.\n"
     ]
    }
   ],
   "source": [
    "function cal_hue(h)\n",
    "    if 20.14 < h <= 90\n",
    "        ei = 0.8; Hi = 0; hi = 20.14; hi1 = 90; ei1 = 0.7;\n",
    "    elseif 90 < h <= 164.25\n",
    "        ei = 0.7; Hi = 100; hi = 90; hi1 = 164.25; ei1 = 1;\n",
    "    elseif 164.25 < h <= 237.53\n",
    "        ei = 1; Hi = 200; hi = 164.25; hi1 = 237.53; ei1 = 1.2;\n",
    "    elseif 237.53 < h <= 380.14\n",
    "        ei = 1.2; Hi = 300; hi = 237.53; hi1 = 380.14; ei1 = 0.8;\n",
    "    end\n",
    "    return ei, Hi, hi, hi1, ei1\n",
    "end;"
   ]
  },
  {
   "cell_type": "code",
   "execution_count": 23,
   "metadata": {
    "collapsed": false
   },
   "outputs": [
    {
     "data": {
      "text/plain": [
       "305.4525961738253"
      ]
     },
     "execution_count": 23,
     "metadata": {},
     "output_type": "execute_result"
    }
   ],
   "source": [
    "ei, Hi, hi, hi1, ei1 = cal_hue(h_apo)\n",
    "\n",
    "H = Hi + (100*(h_apo-hi)/ei) / ((h_apo-hi)/ei + (hi1-h_apo)/ei1)"
   ]
  },
  {
   "cell_type": "markdown",
   "metadata": {},
   "source": [
    "!!! Problem: "
   ]
  },
  {
   "cell_type": "code",
   "execution_count": 24,
   "metadata": {
    "collapsed": false
   },
   "outputs": [
    {
     "data": {
      "text/plain": [
       "59.271348342118536"
      ]
     },
     "execution_count": 24,
     "metadata": {},
     "output_type": "execute_result"
    }
   ],
   "source": [
    "# Verison 1: the textbook\n",
    "et = ei + (ei1-ei)*(h_apo-hi)/(hi1-hi)\n",
    "\n",
    "# Verison 2: the blog and wiki page\n",
    "# et = 1/4*(cos(pi/1.8*h+2)+3.8)\n",
    "\n",
    "A = (2*RGB_a_apo[1] + RGB_a_apo[2] + (1/20)*RGB_a_apo[3]) * N_bb\n",
    "\n",
    "A_w = (2*RGB_aw_apo[1] + RGB_aw_apo[2] + (1/20)*RGB_aw_apo[3]) * N_bb\n",
    "\n",
    "J = 100 * (A/A_w)^(c*z)\n",
    "\n",
    "Q = (4/c)*sqrt(1/100*J) * (A_w+4) * F_L^(1/4)\n",
    "\n",
    "t = (50000/13 * N_c*N_cb*et*sqrt(a^2+b^2)) / (RGB_a_apo[1] + RGB_a_apo[2] + 21/20*RGB_a_apo[3])\n",
    "\n",
    "C = t^0.9 * sqrt(1/100*J) * (1.64-0.29^n)^0.73\n",
    "\n",
    "M = C*F_L^(1/4)\n",
    "\n",
    "s = 100 * sqrt(M/Q)"
   ]
  },
  {
   "cell_type": "code",
   "execution_count": null,
   "metadata": {
    "collapsed": true
   },
   "outputs": [],
   "source": []
  }
 ],
 "metadata": {
  "anaconda-cloud": {},
  "kernelspec": {
   "display_name": "Julia 0.5.0",
   "language": "julia",
   "name": "julia-0.5"
  },
  "language_info": {
   "file_extension": ".jl",
   "mimetype": "application/julia",
   "name": "julia",
   "version": "0.5.0"
  }
 },
 "nbformat": 4,
 "nbformat_minor": 2
}
